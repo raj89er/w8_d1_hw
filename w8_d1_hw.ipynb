{
 "cells": [
  {
   "cell_type": "markdown",
   "id": "4d47fea9",
   "metadata": {},
   "source": [
    "#### Question #1"
   ]
  },
  {
   "cell_type": "markdown",
   "id": "a9e8d7cb",
   "metadata": {},
   "source": [
    "Create a type to represent the following instances of `CTStudent` Also declare three 3 students below as type `CTStudent` and set their values\n",
    "\n",
    "```\n",
    "let student1 = {\n",
    "    id: 'GMK435&g62L00',\n",
    "    name: 'John Smith',\n",
    "    age: 24,\n",
    "    isTired: true,\n",
    "    projectsCompleted:[\"HTML Portfolio\", \"Fakebook\", \"Pokemon API Project\", \"Weather Bug\"],\n",
    "    pet: 'dog'\n",
    "}\n",
    "\n",
    "let student2= {\n",
    "    id: '6KGS%54GmlY76',\n",
    "    name: 'Jenny Hawthorne',\n",
    "    age: 28,\n",
    "    isTired: false,\n",
    "    projectsCompleted:[\"HTML Portfolio\"],\n",
    "}\n",
    "\n",
    "let student3 = {\n",
    "    id: '6KGS%54GmlY76',\n",
    "    name: 'Neo',\n",
    "    age: 57,\n",
    "    isTired: true,\n",
    "    projectsCompleted:[\"Matrix\",\"Biological Interface Program\"],\n",
    "    pet:'cat'\n",
    "}\n",
    "```"
   ]
  },
  {
   "cell_type": "code",
   "execution_count": 28,
   "id": "c73d5ef8",
   "metadata": {},
   "outputs": [
    {
     "name": "stdout",
     "output_type": "stream",
     "text": [
      "┌───────────────────┬──────────────────┬────────────┬───────────────────────┬───────────────┬─────────────────┐\n",
      "│ (index)           │ 0                │ 1          │ 2                     │ 3             │ Values          │\n",
      "├───────────────────┼──────────────────┼────────────┼───────────────────────┼───────────────┼─────────────────┤\n",
      "│ id                │                  │            │                       │               │ 'GMK435&g62L00' │\n",
      "│ name              │                  │            │                       │               │ 'John Smith'    │\n",
      "│ age               │                  │            │                       │               │ 24              │\n",
      "│ isTired           │                  │            │                       │               │ true            │\n",
      "│ projectsCompleted │ 'HTML Portfolio' │ 'Fakebook' │ 'Pokemon API Project' │ 'Weather Bug' │                 │\n",
      "│ pet               │                  │            │                       │               │ 'dog'           │\n",
      "└───────────────────┴──────────────────┴────────────┴───────────────────────┴───────────────┴─────────────────┘\n",
      "┌───────────────────┬──────────────────┬───────────────────┐\n",
      "│ (index)           │ 0                │ Values            │\n",
      "├───────────────────┼──────────────────┼───────────────────┤\n",
      "│ id                │                  │ '6KGS%54GmlY76'   │\n",
      "│ name              │                  │ 'Jenny Hawthorne' │\n",
      "│ age               │                  │ 28                │\n",
      "│ isTired           │                  │ false             │\n",
      "│ projectsCompleted │ 'HTML Portfolio' │                   │\n",
      "└───────────────────┴──────────────────┴───────────────────┘\n",
      "┌───────────────────┬──────────┬────────────────────────────────┬─────────────────┐\n",
      "│ (index)           │ 0        │ 1                              │ Values          │\n",
      "├───────────────────┼──────────┼────────────────────────────────┼─────────────────┤\n",
      "│ id                │          │                                │ '6KGS%54GmlY76' │\n",
      "│ name              │          │                                │ 'Neo'           │\n",
      "│ age               │          │                                │ 57              │\n",
      "│ isTired           │          │                                │ true            │\n",
      "│ projectsCompleted │ 'Matrix' │ 'Biological Interface Program' │                 │\n",
      "│ pet               │          │                                │ 'cat'           │\n",
      "└───────────────────┴──────────┴────────────────────────────────┴─────────────────┘\n"
     ]
    }
   ],
   "source": [
    "//Answer\n",
    "\n",
    "type CTSudent = {\n",
    "    id: string;\n",
    "    name: string;\n",
    "    age: number;\n",
    "    isTired: boolean;\n",
    "    projectsCompleted: string[];\n",
    "    pet?: string;   //apparently the \"?\" makes the property optional\n",
    "};\n",
    "\n",
    "let student1 = {\n",
    "    id: 'GMK435&g62L00',\n",
    "    name: 'John Smith',\n",
    "    age: 24,\n",
    "    isTired: true,\n",
    "    projectsCompleted:[\"HTML Portfolio\", \"Fakebook\", \"Pokemon API Project\", \"Weather Bug\"],\n",
    "    pet: 'dog'\n",
    "}\n",
    "\n",
    "let student2= {\n",
    "    id: '6KGS%54GmlY76',\n",
    "    name: 'Jenny Hawthorne',\n",
    "    age: 28,\n",
    "    isTired: false,\n",
    "    projectsCompleted:[\"HTML Portfolio\"],\n",
    "}\n",
    "\n",
    "let student3 = {\n",
    "    id: '6KGS%54GmlY76',\n",
    "    name: 'Neo',\n",
    "    age: 57,\n",
    "    isTired: true,\n",
    "    projectsCompleted:[\"Matrix\",\"Biological Interface Program\"],\n",
    "    pet:'cat'\n",
    "}\n",
    "\n",
    "console.table(student1);\n",
    "console.table(student2);\n",
    "console.table(student3);"
   ]
  },
  {
   "cell_type": "markdown",
   "id": "4f55579f",
   "metadata": {},
   "source": [
    "#### Question #2"
   ]
  },
  {
   "cell_type": "markdown",
   "id": "3b36ab99",
   "metadata": {},
   "source": [
    "Write a function that will accept a an object of type `Fruit`, the object of type Fruit could also be `null`.  If their is a Fruit print the color of the fruit, otherwise print `You ate my fruit already` be sure to annoate the return type of the function"
   ]
  },
  {
   "cell_type": "code",
   "execution_count": 29,
   "id": "d0723c22",
   "metadata": {},
   "outputs": [],
   "source": [
    "//Given\n",
    "type Fruit={\n",
    "    color:string,\n",
    "    shape:string\n",
    "}\n",
    "\n",
    "let apple:Fruit={color:\"red\", shape:\"sphere\"}\n",
    "let eaten:Fruit=null\n",
    "\n",
    "//Answer"
   ]
  },
  {
   "cell_type": "code",
   "execution_count": 30,
   "id": "522152fa",
   "metadata": {},
   "outputs": [],
   "source": [
    "\n",
    "function printFruitColor(fruit: Fruit | null): void {\n",
    "    if (fruit) {\n",
    "        console.log('The color of the fruit is ' + fruit.color);\n",
    "    } else {\n",
    "        console.log('You ate my fruit already');\n",
    "    }\n",
    "}\n",
    "\n",
    "let banana: Fruit = { color: 'yellow', shape: 'elongated' };\n",
    "let apple:Fruit={color:\"red\", shape:\"sphere\"}\n",
    "let eaten:Fruit=null\n"
   ]
  },
  {
   "cell_type": "code",
   "execution_count": 31,
   "id": "193accf3",
   "metadata": {},
   "outputs": [
    {
     "name": "stdout",
     "output_type": "stream",
     "text": [
      "┌─────────┬──────────┬─────────────┐\n",
      "│ (index) │ color    │ shape       │\n",
      "├─────────┼──────────┼─────────────┤\n",
      "│ 0       │ 'yellow' │ 'elongated' │\n",
      "└─────────┴──────────┴─────────────┘\n",
      "The color of the fruit is yellow\n",
      "┌─────────┬───────┬──────────┐\n",
      "│ (index) │ color │ shape    │\n",
      "├─────────┼───────┼──────────┤\n",
      "│ 0       │ 'red' │ 'sphere' │\n",
      "└─────────┴───────┴──────────┘\n",
      "The color of the fruit is red\n",
      "┌─────────┬────────┐\n",
      "│ (index) │ Values │\n",
      "├─────────┼────────┤\n",
      "│ 0       │ null   │\n",
      "└─────────┴────────┘\n",
      "You ate my fruit already\n"
     ]
    }
   ],
   "source": [
    "console.table([banana]);\n",
    "printFruitColor(banana);\n",
    "\n",
    "console.table([apple]);\n",
    "printFruitColor(apple);\n",
    "\n",
    "console.table([eaten]);\n",
    "printFruitColor(eaten);"
   ]
  },
  {
   "cell_type": "markdown",
   "id": "c779e6ce",
   "metadata": {},
   "source": [
    "#### Question #3"
   ]
  },
  {
   "cell_type": "markdown",
   "id": "754ad305",
   "metadata": {},
   "source": [
    "Create a Union Type named `Ebook` for `Book` and `DigitalBook` and create one instance of the new union type"
   ]
  },
  {
   "cell_type": "code",
   "execution_count": 7,
   "id": "a2fe8468",
   "metadata": {},
   "outputs": [
    {
     "name": "stdout",
     "output_type": "stream",
     "text": [
      "┌──────────┬──────────────────────┐\n",
      "│ (index)  │ Values               │\n",
      "├──────────┼──────────────────────┤\n",
      "│ isbn     │ '9780316098906'      │\n",
      "│ title    │ 'The Way of Shadows' │\n",
      "│ author   │ 'Brent Weeks'        │\n",
      "│ fileType │ 'PDF'                │\n",
      "└──────────┴──────────────────────┘\n",
      "┌──────────┬─────────────────────────────┐\n",
      "│ (index)  │ Values                      │\n",
      "├──────────┼─────────────────────────────┤\n",
      "│ isbn     │ '9781101177601'             │\n",
      "│ title    │ \"It's Not Easy Being Green\" │\n",
      "│ author   │ 'Jim Henson'                │\n",
      "│ fileType │ 'EPUB'                      │\n",
      "└──────────┴─────────────────────────────┘\n"
     ]
    }
   ],
   "source": [
    "//Given \n",
    "type Book={\n",
    "    isbn:string,\n",
    "    title:string,\n",
    "    author:string\n",
    "}\n",
    "\n",
    "type DigitalBook={\n",
    "    fileType:string,\n",
    "}\n",
    "\n",
    "//Answer\n",
    "\n",
    "type Ebook = Book | DigitalBook;\n",
    "\n",
    "let theWayOfShadows: Ebook = {\n",
    "    isbn: '9780316098906',\n",
    "    title: 'The Way of Shadows',\n",
    "    author: 'Brent Weeks',\n",
    "    fileType: 'PDF'\n",
    "};\n",
    "\n",
    "let itsNotEasyBeingGreen: Ebook = {\n",
    "    isbn: '9781101177601',\n",
    "    title: 'It\\'s Not Easy Being Green',\n",
    "    author: 'Jim Henson',\n",
    "    fileType: 'EPUB'\n",
    "};\n",
    "\n",
    "console.table(theWayOfShadows);\n",
    "console.table(itsNotEasyBeingGreen);"
   ]
  },
  {
   "cell_type": "markdown",
   "id": "ff5b6cd0",
   "metadata": {},
   "source": [
    "#### Question #4"
   ]
  },
  {
   "cell_type": "markdown",
   "id": "2d47d040",
   "metadata": {},
   "source": [
    "Create a Type to represent a `ShopItem` that will fit the following rules. You may need to create additional structures\n",
    "\n",
    "- All ShopItems have an numeric id that can not be edited \n",
    "- All ShopItems have a price\n",
    "- All ShopItems have a description\n",
    "- Some ShopItems have a color\n",
    "- All ShopItems have a Category represented with an enum \n",
    "    - Possible Categories are `Shirts` `Shoes` `Pants` `Hats`\n",
    "- All ShopItems have a list of keywords used to help search for the ShopItem \n",
    "    - For Example A Ironman Tshirt may have keywords = [\"Marvel\", \"Endgame\", \"Ironman\",\"Character Tees\", \"Tony Stark\"]\n",
    "\n",
    "After Creating the `ShopItem` type create 3 items using this type"
   ]
  },
  {
   "cell_type": "code",
   "execution_count": 1,
   "id": "157b9a0d",
   "metadata": {
    "scrolled": false
   },
   "outputs": [
    {
     "name": "stdout",
     "output_type": "stream",
     "text": [
      "{\n",
      "  id: 1,\n",
      "  price: 15.99,\n",
      "  description: 'The Lord of the Rings Trilogy (Books)',\n",
      "  category: 'Book',\n",
      "  keywords: [ 'LOTR', 'Fiction', 'Fantasy', 'Tolkien' ]\n",
      "}\n",
      "{\n",
      "  id: 2,\n",
      "  price: 29.99,\n",
      "  description: 'The Lord of the Rings Extended Edition (Movies)',\n",
      "  category: 'Movie',\n",
      "  keywords: [ 'LOTR', 'Fantasy', 'Adventure', 'Tolkien' ]\n",
      "}\n",
      "{\n",
      "  id: 3,\n",
      "  price: 9.99,\n",
      "  description: 'The Lord of the Rings Comic Collection',\n",
      "  category: 'Comic',\n",
      "  keywords: [ 'LOTR', 'Comic', 'Fantasy', 'Tolkien' ]\n",
      "}\n"
     ]
    }
   ],
   "source": [
    "\n",
    "enum Category {\n",
    "    Comic = 'Comic',\n",
    "    Book = 'Book',\n",
    "    Movie = 'Movie',\n",
    "    Show = 'Show',\n",
    "}\n",
    "\n",
    "type ShopItem = {\n",
    "    readonly id: number;\n",
    "    price: number;\n",
    "    description: string;\n",
    "    color?: string;\n",
    "    category: Category;\n",
    "    keywords: string[];\n",
    "};\n",
    "\n",
    "let item1: ShopItem = {\n",
    "    id: 1,\n",
    "    price: 15.99,\n",
    "    description: 'The Lord of the Rings Trilogy (Books)',\n",
    "    category: Category.Book,\n",
    "    keywords: ['LOTR', 'Fiction', 'Fantasy', 'Tolkien']\n",
    "};\n",
    "\n",
    "let item2: ShopItem = {\n",
    "    id: 2,\n",
    "    price: 29.99,\n",
    "    description: 'The Lord of the Rings Extended Edition (Movies)',\n",
    "    category: Category.Movie,\n",
    "    keywords: ['LOTR', 'Fantasy', 'Adventure', 'Tolkien']\n",
    "};\n",
    "\n",
    "let item3: ShopItem = {\n",
    "    id: 3,\n",
    "    price: 9.99,\n",
    "    description: 'The Lord of the Rings Comic Collection',\n",
    "    category: Category.Comic,\n",
    "    keywords: ['LOTR', 'Comic', 'Fantasy', 'Tolkien']\n",
    "};\n",
    "\n",
    "console.log(item1);\n",
    "console.log(item2);\n",
    "console.log(item3);\n"
   ]
  }
 ],
 "metadata": {
  "kernelspec": {
   "display_name": "TypeScript",
   "language": "typescript",
   "name": "tslab"
  },
  "language_info": {
   "codemirror_mode": {
    "mode": "typescript",
    "name": "javascript",
    "typescript": true
   },
   "file_extension": ".ts",
   "mimetype": "text/typescript",
   "name": "typescript",
   "version": "3.7.2"
  }
 },
 "nbformat": 4,
 "nbformat_minor": 5
}
